{
 "cells": [
  {
   "cell_type": "code",
   "execution_count": null,
   "id": "95c8907e",
   "metadata": {},
   "outputs": [],
   "source": [
    "# SET UP (it will take a long time to run)\n",
    "using Pkg; Pkg.activate(\"C:/Users/nicot/GitHub/Tutorial_DynMacro\")\n",
    "using Plots; using Optim; using Interpolations; using LinearAlgebra; using QuantEcon\n",
    "Pkg.status()"
   ]
  },
  {
   "cell_type": "code",
   "execution_count": null,
   "id": "4e5fb904",
   "metadata": {},
   "outputs": [],
   "source": []
  },
  {
   "cell_type": "code",
   "execution_count": null,
   "id": "e25fab8d",
   "metadata": {},
   "outputs": [],
   "source": []
  }
 ],
 "metadata": {
  "kernelspec": {
   "display_name": "Julia 1.6.2",
   "language": "julia",
   "name": "julia-1.6"
  },
  "language_info": {
   "file_extension": ".jl",
   "mimetype": "application/julia",
   "name": "julia",
   "version": "1.6.2"
  }
 },
 "nbformat": 4,
 "nbformat_minor": 5
}
