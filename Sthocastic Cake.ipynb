{
 "cells": [
  {
   "cell_type": "code",
   "execution_count": null,
   "id": "078d58e3",
   "metadata": {},
   "outputs": [],
   "source": [
    "# SET UP (it will take a long time to run)\n",
    "using Pkg; Pkg.activate(\"C:/Users/nicot/GitHub/Tutorial_DynMacro\")\n",
    "using Plots; using Optim; using Interpolations; using LinearAlgebra\n",
    "Pkg.status()"
   ]
  },
  {
   "cell_type": "markdown",
   "id": "1e75826e",
   "metadata": {},
   "source": [
    "# Bipolar cake eater\n",
    "**Taste shocks**\n",
    "\n",
    "Let's reframe the previous problem whith taste shocks. When it rains I really like to eat cake, when it's sunny not so much. This shocks are represented by $\\epsilon_t$ that are a markov chain with transition matrix $\\Pi$.\n",
    "\n",
    "Bellman's equation is:\n",
    "$$\n",
    "V(K,\\epsilon)=max_{K'} \\big\\{ \\epsilon \\; u(K-K') + \\beta E_\\epsilon \\big[V(K',\\epsilon')\\big] \\big\\}\n",
    "$$\n",
    "\n",
    "Expanding the expectation we have\n",
    "$$\n",
    "V(K,\\epsilon) = max_{K'} \\big\\{ \\epsilon \\; u(K-K') + \\beta \\big[ \\pi(\\epsilon|\\epsilon) V(K',\\epsilon) + \\pi(\\epsilon'|\\epsilon) V(K',\\epsilon') \\big] \\big\\}\n",
    "$$"
   ]
  },
  {
   "cell_type": "code",
   "execution_count": 1,
   "id": "be162a17",
   "metadata": {},
   "outputs": [
    {
     "data": {
      "text/plain": [
       "2"
      ]
     },
     "execution_count": 1,
     "metadata": {},
     "output_type": "execute_result"
    }
   ],
   "source": [
    "ε"
   ]
  }
 ],
 "metadata": {
  "kernelspec": {
   "display_name": "Julia 1.6.2",
   "language": "julia",
   "name": "julia-1.6"
  },
  "language_info": {
   "file_extension": ".jl",
   "mimetype": "application/julia",
   "name": "julia",
   "version": "1.6.2"
  }
 },
 "nbformat": 4,
 "nbformat_minor": 5
}
